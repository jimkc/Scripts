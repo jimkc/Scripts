{
  "cells": [
    {
      "cell_type": "markdown",
      "metadata": {
        "id": "view-in-github",
        "colab_type": "text"
      },
      "source": [
        "<a href=\"https://colab.research.google.com/github/jimkc/Scripts/blob/main/Collect_YouTubeComments.ipynb\" target=\"_parent\"><img src=\"https://colab.research.google.com/assets/colab-badge.svg\" alt=\"Open In Colab\"/></a>"
      ]
    },
    {
      "cell_type": "markdown",
      "metadata": {
        "id": "_6cNc7iWSfBS"
      },
      "source": [
        "## Output as Pandas DataFrame"
      ]
    },
    {
      "cell_type": "code",
      "execution_count": 26,
      "metadata": {
        "colab": {
          "base_uri": "https://localhost:8080/"
        },
        "id": "lCdRNwqRRmbN",
        "outputId": "aef5d797-1721-4a9e-ba88-17ef693bfa93"
      },
      "outputs": [
        {
          "output_type": "stream",
          "name": "stdout",
          "text": [
            "Retrieved 199 comments\n"
          ]
        }
      ],
      "source": [
        "import googleapiclient.discovery\n",
        "import pandas as pd\n",
        "import re\n",
        "\n",
        "# Function to extract video ID from YouTube URL\n",
        "def extract_video_id(url):\n",
        "    # Regular expression for extracting the video ID\n",
        "    regex = r\"(?:v=|\\/)([0-9A-Za-z_-]{11}).*\"\n",
        "    matches = re.search(regex, url)\n",
        "    if matches:\n",
        "        return matches.group(1)\n",
        "    else:\n",
        "        raise ValueError(\"Unable to extract Video ID from the provided URL.\")\n",
        "\n",
        "# Sample YouTube URL (User should replace this with the actual URL)\n",
        "youtube_url = \"\"\n",
        "\n",
        "# Set the parameter of credential and how many comments to get below\n",
        "DEVELOPER_KEY = \"\"\n",
        "COMMENTS_TO_GET = 100\n",
        "# Extracting the video ID from the URL\n",
        "VIDEO_ID = extract_video_id(youtube_url)\n",
        "\n",
        "api_service_name = \"youtube\"\n",
        "api_version = \"v3\"\n",
        "\n",
        "def get_all_comments(youtube, video_id, max_comments):\n",
        "  \"\"\"\n",
        "  Retrieves all comments for a given video ID using pagination.\n",
        "\n",
        "  Args:\n",
        "      youtube: The authorized YouTube service object.\n",
        "      video_id: The ID of the video for which to retrieve comments.\n",
        "\n",
        "  Returns:\n",
        "      A list containing all retrieved comments (up to quota limits).\n",
        "  \"\"\"\n",
        "  all_comments = []\n",
        "  page_token = None\n",
        "  # Retrieve with pagination\n",
        "  while len(all_comments) < max_comments:\n",
        "    request = youtube.commentThreads().list(\n",
        "        part=\"snippet\",\n",
        "        videoId=video_id,\n",
        "        maxResults=min(max_comments, 1000),\n",
        "        pageToken=page_token,\n",
        "    )\n",
        "    response = request.execute()\n",
        "\n",
        "    # Get comments from current page\n",
        "    for item in response['items']:\n",
        "        comment = item['snippet']['topLevelComment']['snippet']\n",
        "        all_comments.append([\n",
        "            comment['authorDisplayName'],\n",
        "            comment['publishedAt'],\n",
        "            comment['updatedAt'],\n",
        "            comment['likeCount'],\n",
        "            comment['textDisplay']\n",
        "        ])\n",
        "\n",
        "    # Check for next page token\n",
        "    page_token = response.get(\"nextPageToken\")\n",
        "    if not page_token:\n",
        "      break\n",
        "\n",
        "  return all_comments\n",
        "\n",
        "# Make the calls\n",
        "youtube = googleapiclient.discovery.build(\n",
        "    api_service_name, api_version, developerKey=DEVELOPER_KEY)\n",
        "comments = get_all_comments(youtube, VIDEO_ID, COMMENTS_TO_GET)\n",
        "print(f\"Retrieved {len(comments)} comments\")\n",
        "\n",
        "\n",
        "df = pd.DataFrame(comments, columns=['author', 'published_at', 'updated_at', 'like_count', 'text'])\n",
        "\n",
        "# Uncomment if you want to display the results, keep commented to speed up if the COMMENTS_TO_GET is large\n",
        "# df.head(COMMENTS_TO_GET)\n"
      ]
    },
    {
      "cell_type": "code",
      "execution_count": 18,
      "metadata": {
        "id": "4Lj8vldBhHXQ"
      },
      "outputs": [],
      "source": [
        "import os\n",
        "\n",
        "# Define the directory path\n",
        "directory_path = '/mnt/data'\n",
        "\n",
        "# Create the directory if it does not exist\n",
        "if not os.path.exists(directory_path):\n",
        "    os.makedirs(directory_path)"
      ]
    },
    {
      "cell_type": "code",
      "execution_count": 19,
      "metadata": {
        "id": "0LV_QAezR0nc"
      },
      "outputs": [],
      "source": [
        "df.to_csv('/mnt/data/my_dataframe.csv', index=False)"
      ]
    }
  ],
  "metadata": {
    "colab": {
      "provenance": [],
      "include_colab_link": true
    },
    "kernelspec": {
      "display_name": "Python 3",
      "name": "python3"
    },
    "language_info": {
      "name": "python"
    }
  },
  "nbformat": 4,
  "nbformat_minor": 0
}