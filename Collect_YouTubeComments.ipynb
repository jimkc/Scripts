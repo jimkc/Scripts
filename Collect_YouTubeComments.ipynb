{
  "nbformat": 4,
  "nbformat_minor": 0,
  "metadata": {
    "colab": {
      "provenance": [],
      "include_colab_link": true
    },
    "kernelspec": {
      "name": "python3",
      "display_name": "Python 3"
    },
    "language_info": {
      "name": "python"
    }
  },
  "cells": [
    {
      "cell_type": "markdown",
      "metadata": {
        "id": "view-in-github",
        "colab_type": "text"
      },
      "source": [
        "<a href=\"https://colab.research.google.com/github/jimkc/Scripts/blob/main/Collect_YouTubeComments.ipynb\" target=\"_parent\"><img src=\"https://colab.research.google.com/assets/colab-badge.svg\" alt=\"Open In Colab\"/></a>"
      ]
    },
    {
      "cell_type": "markdown",
      "source": [
        "## Output as Pandas DataFrame"
      ],
      "metadata": {
        "id": "_6cNc7iWSfBS"
      }
    },
    {
      "cell_type": "code",
      "source": [
        "import googleapiclient.discovery\n",
        "import pandas as pd\n",
        "\n",
        "# Set the parameter of developer key, video id and how many comments to get below\n",
        "DEVELOPER_KEY = \"\"\n",
        "VIDEO_ID = \"SIm2W9TtzR0\"\n",
        "COMMENTS_TO_GET = 100\n",
        "\n",
        "api_service_name = \"youtube\"\n",
        "api_version = \"v3\"\n",
        "\n",
        "youtube = googleapiclient.discovery.build(\n",
        "    api_service_name, api_version, developerKey=DEVELOPER_KEY)\n",
        "\n",
        "request = youtube.commentThreads().list(\n",
        "    part=\"snippet\",\n",
        "    videoId=VIDEO_ID,\n",
        "    maxResults=COMMENTS_TO_GET\n",
        ")\n",
        "response = request.execute()\n",
        "\n",
        "comments = []\n",
        "\n",
        "for item in response['items']:\n",
        "    comment = item['snippet']['topLevelComment']['snippet']\n",
        "    comments.append([\n",
        "        comment['authorDisplayName'],\n",
        "        comment['publishedAt'],\n",
        "        comment['updatedAt'],\n",
        "        comment['likeCount'],\n",
        "        comment['textDisplay']\n",
        "    ])\n",
        "\n",
        "df = pd.DataFrame(comments, columns=['author', 'published_at', 'updated_at', 'like_count', 'text'])\n",
        "\n",
        "df.head(COMMENTS_TO_GET)\n"
      ],
      "metadata": {
        "id": "lCdRNwqRRmbN"
      },
      "execution_count": null,
      "outputs": []
    },
    {
      "cell_type": "code",
      "source": [
        "import os\n",
        "\n",
        "# Define the directory path\n",
        "directory_path = '/mnt/data'\n",
        "\n",
        "# Create the directory if it does not exist\n",
        "if not os.path.exists(directory_path):\n",
        "    os.makedirs(directory_path)"
      ],
      "metadata": {
        "id": "4Lj8vldBhHXQ"
      },
      "execution_count": 4,
      "outputs": []
    },
    {
      "cell_type": "code",
      "source": [
        "df.head(COMMENTS_TO_GET).to_csv('/mnt/data/my_dataframe.csv', index=False)"
      ],
      "metadata": {
        "id": "0LV_QAezR0nc"
      },
      "execution_count": 5,
      "outputs": []
    }
  ]
}